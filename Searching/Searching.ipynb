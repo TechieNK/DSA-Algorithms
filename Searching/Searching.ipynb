{
  "nbformat": 4,
  "nbformat_minor": 0,
  "metadata": {
    "colab": {
      "name": "Searching.ipynb",
      "provenance": [],
      "collapsed_sections": []
    },
    "kernelspec": {
      "name": "python3",
      "display_name": "Python 3"
    }
  },
  "cells": [
    {
      "cell_type": "code",
      "metadata": {
        "id": "sujQYMjMWZEH"
      },
      "source": [
        "#Linear Search\r\n",
        "a = list(map(int,input().split()))\r\n",
        "val = int(input(\"Enter the search value:\"))\r\n",
        "i = 0\r\n",
        "while(i<len(a)):\r\n",
        "  if a[i] == val:\r\n",
        "    print(i)\r\n",
        "    break\r\n",
        "  i+=1\r\n",
        "if i >= len(a):\r\n",
        "  print(\"Value not found\")"
      ],
      "execution_count": null,
      "outputs": []
    },
    {
      "cell_type": "code",
      "metadata": {
        "id": "8IP4aKikRTKV"
      },
      "source": [
        "#Binary Search\r\n",
        "a = list(map(int,input().split()))\r\n",
        "val = int(input(\"Enter the search value:\"))\r\n",
        "low = 0\r\n",
        "upp = len(a)-1\r\n",
        "while(low<=upp):\r\n",
        "  mid = (low+upp)//2\r\n",
        "  if a[mid] == val:\r\n",
        "    print(\"Found : \".format(mid))\r\n",
        "    break\r\n",
        "  elif a[mid] > val:\r\n",
        "    upp = mid-1\r\n",
        "  else:\r\n",
        "    low = mid+1\r\n",
        "if low>upp:\r\n",
        "  print(\"Value not found\")"
      ],
      "execution_count": null,
      "outputs": []
    }
  ]
}