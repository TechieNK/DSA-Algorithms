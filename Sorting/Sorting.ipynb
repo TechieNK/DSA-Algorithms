{
  "nbformat": 4,
  "nbformat_minor": 0,
  "metadata": {
    "colab": {
      "name": "Sorting.ipynb",
      "provenance": [],
      "collapsed_sections": []
    },
    "kernelspec": {
      "name": "python3",
      "display_name": "Python 3"
    }
  },
  "cells": [
    {
      "cell_type": "code",
      "metadata": {
        "id": "UJR5WhpYSBY0"
      },
      "source": [
        "#Merge sort\r\n",
        "def mergesort(a):\r\n",
        "  if len(a)>1 :\r\n",
        "    mid = len(a)//2\r\n",
        "    firsthalf,secondhalf=a[:mid],a[mid:]\r\n",
        "    mergesort(firsthalf)\r\n",
        "    mergesort(secondhalf)\r\n",
        "    merge(a,firsthalf,secondhalf)\r\n",
        "\r\n",
        "def merge(a,firsthalf,secondhalf):\r\n",
        "  i=j=0\r\n",
        "  del a[:]\r\n",
        "  while (i<len(firsthalf) and j<len(secondhalf)):\r\n",
        "    if firsthalf[i]<secondhalf[j]:\r\n",
        "      a.append(firsthalf[i])\r\n",
        "      i+=1\r\n",
        "    else:\r\n",
        "      a.append(secondhalf[j])\r\n",
        "      j+=1\r\n",
        "  while (i<len(firsthalf)):\r\n",
        "    a.append(firsthalf[i])\r\n",
        "    i+=1\r\n",
        "  while (j<len(secondhalf)):\r\n",
        "    a.append(secondhalf[j])\r\n",
        "    j+=1\r\n",
        "\r\n",
        "a = list(map(int,input().split()))\r\n",
        "print(\"Given Array\")\r\n",
        "print(a)\r\n",
        "mergesort(a)\r\n",
        "print(\"Sorted Array\")\r\n",
        "print(a)"
      ],
      "execution_count": null,
      "outputs": []
    },
    {
      "cell_type": "code",
      "metadata": {
        "id": "wruM58ANSEcJ"
      },
      "source": [
        "#Quick sort\r\n",
        "def quicksort(a,i,j):\r\n",
        "  if len(a)==1:\r\n",
        "    return a\r\n",
        "  if i<j:\r\n",
        "    d = partition(a,i,j)\r\n",
        "    quicksort(a,i,d-1)\r\n",
        "    quicksort(a,d+1,j)\r\n",
        "\r\n",
        "def partition(a,i,j):\r\n",
        "  pivot = j\r\n",
        "  j-=1\r\n",
        "  while i<j:\r\n",
        "    while a[i]<a[pivot]:\r\n",
        "      i+=1\r\n",
        "    while a[j]>a[pivot]:\r\n",
        "      j-=1\r\n",
        "    if i<j:\r\n",
        "      a[i],a[j]=a[j],a[i]\r\n",
        "  a[i],a[pivot]=a[pivot],a[i]\r\n",
        "  return i\r\n",
        "    \r\n",
        "\r\n",
        "a = list(map(int,input().split()))\r\n",
        "quicksort(a,0,len(a)-1)\r\n",
        "print(a)"
      ],
      "execution_count": null,
      "outputs": []
    },
    {
      "cell_type": "code",
      "metadata": {
        "id": "4VVudD7YSJmj"
      },
      "source": [
        "def bubble_sort(arr):\r\n",
        "    for i in range(0, len(arr)-1):\r\n",
        "        for j in range(i+1, len(arr)):\r\n",
        "            if arr[j] < arr[i]:\r\n",
        "                arr[i], arr[j] = arr[j], arr[i]\r\n",
        "\r\n",
        "if __name__ == '__main__':\r\n",
        "    arr = list(map(int, input('Enter the array elements in random order: ').split()))\r\n",
        "    bubble_sort(arr)\r\n",
        "    print(arr)"
      ],
      "execution_count": null,
      "outputs": []
    },
    {
      "cell_type": "code",
      "metadata": {
        "id": "PnFq_qnUSKdB"
      },
      "source": [
        "def selection_sort(arr):\r\n",
        "    for i in range(0, len(arr)-1):\r\n",
        "    \tmin_ind = i\r\n",
        "        for j in range(i+1, len(arr)):\r\n",
        "            if arr[j] < arr[min_ind]:\r\n",
        "            \tmin_ind = j\r\n",
        "        arr[min_ind], arr[j] = arr[j], arr[min_ind]\r\n",
        "\r\n",
        "if __name__ == '__main__':\r\n",
        "    arr = list(map(int, input('Enter the array elements in random order: ').split()))\r\n",
        "    selection_sort(arr)\r\n",
        "    print(arr)"
      ],
      "execution_count": null,
      "outputs": []
    },
    {
      "cell_type": "code",
      "metadata": {
        "id": "b_LJ047ASPiS"
      },
      "source": [
        "# INSERTION SORT\r\n",
        "def insertion_sort(arr):\r\n",
        "    for i in range(1, len(arr)):\r\n",
        "        key = arr[i]\r\n",
        "        j = i-1\r\n",
        "        while j>=0 and arr[j]>key:\r\n",
        "            arr[j+1] = arr[j]\r\n",
        "            j -= 1\r\n",
        "        arr[j+1] = key\r\n",
        "\r\n",
        "if __name__ == '__main__':\r\n",
        "    arr = list(map(int, input('Enter the elements of the array in random order: ').split()))\r\n",
        "    insertion_sort(arr)\r\n",
        "    print(arr)"
      ],
      "execution_count": null,
      "outputs": []
    }
  ]
}