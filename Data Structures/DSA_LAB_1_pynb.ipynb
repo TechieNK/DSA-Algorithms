{
  "nbformat": 4,
  "nbformat_minor": 0,
  "metadata": {
    "colab": {
      "name": "DSA LAB-1.pynb",
      "provenance": [],
      "collapsed_sections": []
    },
    "kernelspec": {
      "name": "python3",
      "display_name": "Python 3"
    }
  },
  "cells": [
    {
      "cell_type": "code",
      "metadata": {
        "colab": {
          "base_uri": "https://localhost:8080/"
        },
        "id": "zUzoMlGGsNWN",
        "outputId": "086b5d79-004c-4f3d-80b4-0c312007d14b"
      },
      "source": [
        "#Linear Search\r\n",
        "a = list(map(int,input().split()))\r\n",
        "val = int(input(\"Enter the search value:\"))\r\n",
        "i = 0\r\n",
        "while(i<len(a)):\r\n",
        "  if a[i] == val:\r\n",
        "    print(i)\r\n",
        "    break\r\n",
        "  i+=1\r\n",
        "if i >= len(a):\r\n",
        "  print(\"Value not found\")"
      ],
      "execution_count": null,
      "outputs": [
        {
          "output_type": "stream",
          "text": [
            "4 5 12 8 20 7 65\n",
            "Enter the search value:12\n",
            "2\n"
          ],
          "name": "stdout"
        }
      ]
    },
    {
      "cell_type": "code",
      "metadata": {
        "colab": {
          "base_uri": "https://localhost:8080/"
        },
        "id": "pBJfWgcu_Lwv",
        "outputId": "976071b3-26b7-45e1-f7bd-014fb39e50eb"
      },
      "source": [
        "#Binary Search\r\n",
        "a = list(map(int,input().split()))\r\n",
        "val = int(input(\"Enter the search value:\"))\r\n",
        "low = 0\r\n",
        "upp = len(a)-1\r\n",
        "while(low<=upp):\r\n",
        "  mid = (low+upp)//2\r\n",
        "  if a[mid] == val:\r\n",
        "    print(\"Found : \".format(mid))\r\n",
        "    break\r\n",
        "  elif a[mid] > val:\r\n",
        "    upp = mid-1\r\n",
        "  else:\r\n",
        "    low = mid+1\r\n",
        "if low>upp:\r\n",
        "  print(\"Value not found\")"
      ],
      "execution_count": null,
      "outputs": [
        {
          "output_type": "stream",
          "text": [
            "10 40 90 160 250\n",
            "Enter the search value:200\n",
            "Value not found\n"
          ],
          "name": "stdout"
        }
      ]
    },
    {
      "cell_type": "code",
      "metadata": {
        "colab": {
          "base_uri": "https://localhost:8080/"
        },
        "id": "R78myQtRHpXy",
        "outputId": "18d9b9b5-5fbd-4d08-8b13-723477764400"
      },
      "source": [
        "#Factorial\r\n",
        "def factorial(n):\r\n",
        "  if n == 0:\r\n",
        "    return 1\r\n",
        "  return n * factorial(n-1)\r\n",
        "print(\"Factorial : {}\".format(factorial(int(input()))))"
      ],
      "execution_count": null,
      "outputs": [
        {
          "output_type": "stream",
          "text": [
            "6\n",
            "Factorial : 720\n"
          ],
          "name": "stdout"
        }
      ]
    },
    {
      "cell_type": "code",
      "metadata": {
        "colab": {
          "base_uri": "https://localhost:8080/"
        },
        "id": "PspFIRGDhdbi",
        "outputId": "da63349f-efb7-42b3-91f6-0644e4bae2a4"
      },
      "source": [
        "#power of a number\r\n",
        "def power(x,n):\r\n",
        "  if n == 0:\r\n",
        "    return 1\r\n",
        "  return x * power(x,n-1)\r\n",
        "print(\"Result : {}\".format(power(float(input(\"Enter the base no:\")),int(input(\"Enter the exponent value:\")))))"
      ],
      "execution_count": null,
      "outputs": [
        {
          "output_type": "stream",
          "text": [
            "Enter the base no:3\n",
            "Enter the exponent value:4\n",
            "Result : 81.0\n"
          ],
          "name": "stdout"
        }
      ]
    },
    {
      "cell_type": "code",
      "metadata": {
        "colab": {
          "base_uri": "https://localhost:8080/"
        },
        "id": "6NaMMwIntc0M",
        "outputId": "a85646ad-9b3d-4079-c738-f3df2b376708"
      },
      "source": [
        "#Max Min in list\r\n",
        "def maxmin(a,n,max,min):\r\n",
        "  if n<0:\r\n",
        "    return min,max\r\n",
        "  if max<a[n]:\r\n",
        "    max=a[n]\r\n",
        "  if min>a[n]:\r\n",
        "    min=a[n]\r\n",
        "  return maxmin(a,n-1,max,min)\r\n",
        "\r\n",
        "#data = [7, 22, 11, 34, 17, 52, 26, 13, 40, 20, 10, 5, 16, 8, 4, 2, 1]\r\n",
        "#7 22 11 34 17 52 26 13 40 20 10 5 16 8 4 2 1 \r\n",
        "data = list(map(int,input().split()))\r\n",
        "print('Min: {} Max: {}'.format(maxmin(data,len(data)-1,data[0],data[0])[0],maxmin(data,len(data)-1,data[0],data[0])[1]))"
      ],
      "execution_count": null,
      "outputs": [
        {
          "output_type": "stream",
          "text": [
            "7 22 11 34 17 52 26 13 40 20 10 5 16 8 4 2 1\n",
            "Min: 1 Max: 52\n"
          ],
          "name": "stdout"
        }
      ]
    },
    {
      "cell_type": "code",
      "metadata": {
        "colab": {
          "base_uri": "https://localhost:8080/"
        },
        "id": "XqKbuKlf-kl8",
        "outputId": "3c4a48bd-24e7-4be0-f23e-18abe4f2befc"
      },
      "source": [
        "#Linear sum\r\n",
        "def linearsum(a):\r\n",
        "  if len(a)==0:\r\n",
        "    return 0\r\n",
        "  else:\r\n",
        "    return a[0]+linearsum(a[1:])\r\n",
        "a = list(map(int,input().split()))\r\n",
        "print(\"Sum:{}\".format(linearsum(a)))"
      ],
      "execution_count": null,
      "outputs": [
        {
          "output_type": "stream",
          "text": [
            "1 2 3 4 5 6\n",
            "Sum:21\n"
          ],
          "name": "stdout"
        }
      ]
    },
    {
      "cell_type": "code",
      "metadata": {
        "colab": {
          "base_uri": "https://localhost:8080/"
        },
        "id": "xyTpO2wpCvw_",
        "outputId": "2c78d23e-0bbe-451c-9675-ceda64dc0794"
      },
      "source": [
        "#Merge sort\r\n",
        "def mergesort(a):\r\n",
        "  if len(a)>1 :\r\n",
        "    mid = len(a)//2\r\n",
        "    firsthalf,secondhalf=a[:mid],a[mid:]\r\n",
        "    mergesort(firsthalf)\r\n",
        "    mergesort(secondhalf)\r\n",
        "    merge(a,firsthalf,secondhalf)\r\n",
        "\r\n",
        "def merge(a,firsthalf,secondhalf):\r\n",
        "  i=j=0\r\n",
        "  del a[:]\r\n",
        "  while (i<len(firsthalf) and j<len(secondhalf)):\r\n",
        "    if firsthalf[i]<secondhalf[j]:\r\n",
        "      a.append(firsthalf[i])\r\n",
        "      i+=1\r\n",
        "    else:\r\n",
        "      a.append(secondhalf[j])\r\n",
        "      j+=1\r\n",
        "  while (i<len(firsthalf)):\r\n",
        "    a.append(firsthalf[i])\r\n",
        "    i+=1\r\n",
        "  while (j<len(secondhalf)):\r\n",
        "    a.append(secondhalf[j])\r\n",
        "    j+=1\r\n",
        "\r\n",
        "a = list(map(int,input().split()))\r\n",
        "print(\"Given Array\")\r\n",
        "print(a)\r\n",
        "mergesort(a)\r\n",
        "print(\"Sorted Array\")\r\n",
        "print(a)"
      ],
      "execution_count": null,
      "outputs": [
        {
          "output_type": "stream",
          "text": [
            "10 9 8 7 1 2 3 4 5 6\n",
            "Given Array\n",
            "[10, 9, 8, 7, 1, 2, 3, 4, 5, 6]\n",
            "Sorted Array\n",
            "[1, 2, 3, 4, 5, 6, 7, 8, 9, 10]\n"
          ],
          "name": "stdout"
        }
      ]
    },
    {
      "cell_type": "code",
      "metadata": {
        "id": "igiL7lKiQgun",
        "colab": {
          "base_uri": "https://localhost:8080/"
        },
        "outputId": "5d312b94-79f7-4219-9071-d01f1cce32f8"
      },
      "source": [
        "#Quick sort\r\n",
        "def quicksort(a,i,j):\r\n",
        "  if len(a)==1:\r\n",
        "    return a\r\n",
        "  if i<j:\r\n",
        "    d = partition(a,i,j)\r\n",
        "    quicksort(a,i,d-1)\r\n",
        "    quicksort(a,d+1,j)\r\n",
        "\r\n",
        "def partition(a,i,j):\r\n",
        "  pivot = j\r\n",
        "  j-=1\r\n",
        "  while i<j:\r\n",
        "    while a[i]<a[pivot]:\r\n",
        "      i+=1\r\n",
        "    while a[j]>a[pivot]:\r\n",
        "      j-=1\r\n",
        "    if i<j:\r\n",
        "      a[i],a[j]=a[j],a[i]\r\n",
        "  a[i],a[pivot]=a[pivot],a[i]\r\n",
        "  return i\r\n",
        "    \r\n",
        "\r\n",
        "a = list(map(int,input().split()))\r\n",
        "quicksort(a,0,len(a)-1)\r\n",
        "print(a)"
      ],
      "execution_count": null,
      "outputs": [
        {
          "output_type": "stream",
          "text": [
            "54 26 46 23 35 12 02 87 65\n",
            "[2, 12, 23, 26, 46, 35, 54, 65, 87]\n"
          ],
          "name": "stdout"
        }
      ]
    },
    {
      "cell_type": "code",
      "metadata": {
        "colab": {
          "base_uri": "https://localhost:8080/"
        },
        "id": "KSM0AU7pL93S",
        "outputId": "d85a7e62-2209-43bf-81b6-d58e069e1066"
      },
      "source": [
        "#Linked Stack\r\n",
        "class Node: \r\n",
        "\tdef __init__(self, data): \r\n",
        "\t\tself.data = data\r\n",
        "\t\tself.next = None\r\n",
        "\r\n",
        "class Stack:\r\n",
        "  def __init__(self): \r\n",
        "    self.head = None\r\n",
        "  \r\n",
        "  def push(self,data):\r\n",
        "    if self.head is None:\r\n",
        "      self.head = Node(data)\r\n",
        "    else:\r\n",
        "      newnode = Node(data)\r\n",
        "      newnode.next = self.head\r\n",
        "      self.head = newnode\r\n",
        "\r\n",
        "  def pop(self):         \r\n",
        "        if self.isEmpty():\r\n",
        "            print(\"Stack Underflow\")              \r\n",
        "        else:\r\n",
        "          print(\"Elemet popped is \",self.head.data)\r\n",
        "          self.head = self.head.next\r\n",
        "\r\n",
        "  def isEmpty(self):\r\n",
        "    if self.head is None:\r\n",
        "      return True\r\n",
        "    else:\r\n",
        "      return False\r\n",
        "\r\n",
        "  def size(self):\r\n",
        "    temp=self.head \r\n",
        "    count=0\r\n",
        "    while temp is not None: \r\n",
        "      count=count+1\r\n",
        "      temp=temp.next\r\n",
        "    return count \r\n",
        "\r\n",
        "  def top(self):         \r\n",
        "        if self.isEmpty():\r\n",
        "            return None\r\n",
        "        else:\r\n",
        "            return self.head.data\r\n",
        "     \r\n",
        "  def display(self):        \r\n",
        "      iternode = self.head\r\n",
        "      if self.isEmpty():\r\n",
        "          print(\"Stack Underflow\")         \r\n",
        "      else:             \r\n",
        "          while(iternode != None):                 \r\n",
        "              print(iternode.data,\"->\",end = \" \")\r\n",
        "              iternode = iternode.next     \r\n",
        "\r\n",
        "stack = Stack()\r\n",
        "print(\"Stack operations\")\r\n",
        "print(\"Stack is empty:\",stack.isEmpty()) \r\n",
        "stack.push(12)\r\n",
        "stack.push(23)\r\n",
        "stack.push(34)\r\n",
        "stack.push(45)\r\n",
        "stack.push(56)\r\n",
        "stack.push(67)\r\n",
        "stack.display()\r\n",
        "print(\"\\nTop element is \",stack.top())\r\n",
        "print(\"Size of the stack is \",stack.size())\r\n",
        "stack.pop()\r\n",
        "stack.pop()\r\n",
        "print(\"After applying pop() two times\")\r\n",
        "stack.display()      \r\n",
        "print(\"\\nTop element is \",stack.top())\r\n",
        "print(\"Size of the stack is \",stack.size())\r\n",
        "print(\"Stack is empty:\",stack.isEmpty())\r\n",
        "stack.pop()\r\n",
        "stack.pop()\r\n",
        "stack.pop()\r\n",
        "print(\"After applying pop() three times\")\r\n",
        "stack.display()\r\n",
        "print(\"\\nTop element is \",stack.top())\r\n",
        "stack.pop()\r\n",
        "print(\"Stack is empty:\",stack.isEmpty())"
      ],
      "execution_count": null,
      "outputs": [
        {
          "output_type": "stream",
          "text": [
            "Stack operations\n",
            "Stack is empty: True\n",
            "67 -> 56 -> 45 -> 34 -> 23 -> 12 -> \n",
            "Top element is  67\n",
            "Size of the stack is  6\n",
            "Elemet popped is  67\n",
            "Elemet popped is  56\n",
            "After applying pop() two times\n",
            "45 -> 34 -> 23 -> 12 -> \n",
            "Top element is  45\n",
            "Size of the stack is  4\n",
            "Stack is empty: False\n",
            "Elemet popped is  45\n",
            "Elemet popped is  34\n",
            "Elemet popped is  23\n",
            "After applying pop() three times\n",
            "12 -> \n",
            "Top element is  12\n",
            "Elemet popped is  12\n",
            "Stack is empty: True\n"
          ],
          "name": "stdout"
        }
      ]
    },
    {
      "cell_type": "code",
      "metadata": {
        "colab": {
          "base_uri": "https://localhost:8080/"
        },
        "id": "7RkEYmHgEVmI",
        "outputId": "ed8a63ca-d566-4e1a-e50c-49efdcb0ea2f"
      },
      "source": [
        "#Linked Queue\r\n",
        "class Node: \r\n",
        "\tdef __init__(self, data): \r\n",
        "\t\tself.data = data\r\n",
        "\t\tself.next = None\r\n",
        "\t\t\r\n",
        "class Queue:\r\n",
        "  def __init__(self): \r\n",
        "    self.head = None\r\n",
        "    self.tail=None\r\n",
        "\r\n",
        "  def enqueue(self, data): \r\n",
        "    if self.tail is None: \r\n",
        "      self.head =Node(data) \r\n",
        "      self.tail =self.head \r\n",
        "    else:\r\n",
        "      self.tail.next = Node(data)\r\n",
        "      self.tail = self.tail.next\r\n",
        "\r\n",
        "  def dequeue(self): \r\n",
        "    if self.head is None: \r\n",
        "      print(\"Queue Underflow\")  \r\n",
        "    else:\r\n",
        "        print(\"Element removed from the queue is \", self.head.data)\r\n",
        "        self.head = self.head.next\r\n",
        "\r\n",
        "  def first(self): \r\n",
        "    return self.head.data \r\n",
        "\r\n",
        "  def size(self): \r\n",
        "    temp=self.head \r\n",
        "    count=0\r\n",
        "    while temp is not None: \r\n",
        "      count=count+1\r\n",
        "      temp=temp.next\r\n",
        "    return count \r\n",
        "\t\r\n",
        "  def isEmpty(self): \r\n",
        "    if self.head is None: \r\n",
        "      return True\r\n",
        "    else: \r\n",
        "      return False\r\n",
        "\t\t\t\r\n",
        "  def printqueue(self): \r\n",
        "    print(\"Queue elements are:\") \r\n",
        "    temp=self.head \r\n",
        "    while temp is not None: \r\n",
        "      print(temp.data,end=\"->\") \r\n",
        "      temp=temp.next\r\n",
        "\t\r\n",
        "if __name__=='__main__': \r\n",
        "    queue = Queue() \r\n",
        "    print(\"Queue operations\")\r\n",
        "    queue.enqueue(24) \r\n",
        "    queue.enqueue(55) \r\n",
        "    queue.enqueue(68) \r\n",
        "    queue.enqueue(47)\r\n",
        "    queue.enqueue(61) \r\n",
        "    queue.enqueue(72) \r\n",
        "    queue.printqueue() \r\n",
        "    print(\"\\nFirst element is \",queue.first()) \r\n",
        "    print(\"Size of the queue is \",queue.size()) \r\n",
        "    queue.dequeue() \r\n",
        "    queue.dequeue() \r\n",
        "    print(\"After applying dequeue() two times\")\r\n",
        "    print(\"First element is \",queue.first())  \r\n",
        "    queue.printqueue() \r\n",
        "    print(\"\\nQueue is empty:\",queue.isEmpty()) \r\n",
        "    queue.dequeue() \r\n",
        "    queue.dequeue()\r\n",
        "    queue.dequeue() \r\n",
        "    print(\"After applying dequeue() three times\")\r\n",
        "    print(\"Size of the queue is \",queue.size())\r\n",
        "    queue.printqueue()\r\n",
        "    queue.dequeue()\r\n",
        "    print(\"\\nQueue is empty:\",queue.isEmpty()) \r\n",
        "    queue.dequeue()"
      ],
      "execution_count": null,
      "outputs": [
        {
          "output_type": "stream",
          "text": [
            "Queue operations\n",
            "Queue elements are:\n",
            "24->55->68->47->61->72->\n",
            "First element is  24\n",
            "Size of the queue is  6\n",
            "Element removed from the queue is  24\n",
            "Element removed from the queue is  55\n",
            "After applying dequeue() two times\n",
            "First element is  68\n",
            "Queue elements are:\n",
            "68->47->61->72->\n",
            "Queue is empty: False\n",
            "Element removed from the queue is  68\n",
            "Element removed from the queue is  47\n",
            "Element removed from the queue is  61\n",
            "After applying dequeue() three times\n",
            "Size of the queue is  1\n",
            "Queue elements are:\n",
            "72->Element removed from the queue is  72\n",
            "\n",
            "Queue is empty: True\n",
            "Queue Underflow\n"
          ],
          "name": "stdout"
        }
      ]
    },
    {
      "cell_type": "code",
      "metadata": {
        "colab": {
          "base_uri": "https://localhost:8080/",
          "height": 469
        },
        "id": "9huGpjD0LVBm",
        "outputId": "58e8c66e-cbc9-4e58-ea25-62da789981e1"
      },
      "source": [
        "#Circular Queue\r\n",
        "class CircularQueue:\r\n",
        "  \r\n",
        "  class Node:\r\n",
        "    def __init__(self, element, next):\r\n",
        "      self.element = element\r\n",
        "      self.next = next\r\n",
        "\r\n",
        "  def __init__(self):\r\n",
        "    self.tail = None\r\n",
        "    self.size = 0\r\n",
        "  \r\n",
        "  def len(self):\r\n",
        "    return self.size\r\n",
        "  \r\n",
        "  def is_empty(self):\r\n",
        "    return self.size == 0\r\n",
        "  \r\n",
        "  def first(self):\r\n",
        "    if self.is_empty( ):\r\n",
        "      raise Exception(\"Queue is empty \")\r\n",
        "    head = self.tail.next\r\n",
        "    return head.element\r\n",
        "\r\n",
        "  def dequeue(self):\r\n",
        "    if self.is_empty( ):\r\n",
        "      raise Exception(\"Queue is empty\")\r\n",
        "    oldhead = self.tail.next\r\n",
        "    if self.size == 1:\r\n",
        "      self.tail = None \r\n",
        "    else:\r\n",
        "      self.tail.next = oldhead.next\r\n",
        "    self.size = self.size - 1\r\n",
        "    return oldhead.element\r\n",
        "\r\n",
        "  def enqueue(self, e):\r\n",
        "    newest = self.Node(e, None)\r\n",
        "    if self.is_empty( ):\r\n",
        "      newest.next = newest\r\n",
        "    else:\r\n",
        "      newest.next = self.tail.next\r\n",
        "      self.tail.next = newest\r\n",
        "    self.tail = newest\r\n",
        "    self.size += 1\r\n",
        "\r\n",
        "  def rotate(self):\r\n",
        "    if self.size > 0:\r\n",
        "      self.tail = self.tail.next\r\n",
        "\r\n",
        "if __name__=='__main__': \r\n",
        "    cqueue = CircularQueue()\r\n",
        "    print(\"Circular Queue operations\")\r\n",
        "    cqueue.enqueue(24) \r\n",
        "    cqueue.enqueue(55) \r\n",
        "    cqueue.enqueue(68) \r\n",
        "    cqueue.enqueue(47)\r\n",
        "    cqueue.enqueue(61) \r\n",
        "    cqueue.enqueue(72) \r\n",
        "    print(\"First element is \",cqueue.first()) \r\n",
        "    print(\"Size of the queue is \",cqueue.len()) \r\n",
        "    cqueue.dequeue() \r\n",
        "    cqueue.dequeue() \r\n",
        "    print(\"After applying dequeue() two times\")\r\n",
        "    cqueue.rotate()\r\n",
        "    print(\"First element is \",cqueue.first())  \r\n",
        "    print(\"Queue is empty:\",cqueue.is_empty()) \r\n",
        "    cqueue.dequeue() \r\n",
        "    cqueue.dequeue()\r\n",
        "    cqueue.dequeue() \r\n",
        "    print(\"After applying dequeue() three times\")\r\n",
        "    print(\"Size of the queue is \",cqueue.len())    \r\n",
        "    cqueue.dequeue()\r\n",
        "    print(\"Queue is empty:\",cqueue.is_empty()) \r\n",
        "    cqueue.dequeue()"
      ],
      "execution_count": null,
      "outputs": [
        {
          "output_type": "stream",
          "text": [
            "Circular Queue operations\n",
            "First element is  24\n",
            "Size of the queue is  6\n",
            "After applying dequeue() two times\n",
            "First element is  47\n",
            "Queue is empty: False\n",
            "After applying dequeue() three times\n",
            "Size of the queue is  1\n",
            "Queue is empty: True\n"
          ],
          "name": "stdout"
        },
        {
          "output_type": "error",
          "ename": "Exception",
          "evalue": "ignored",
          "traceback": [
            "\u001b[0;31m---------------------------------------------------------------------------\u001b[0m",
            "\u001b[0;31mException\u001b[0m                                 Traceback (most recent call last)",
            "\u001b[0;32m<ipython-input-12-9dbe3b83620f>\u001b[0m in \u001b[0;36m<module>\u001b[0;34m()\u001b[0m\n\u001b[1;32m     72\u001b[0m     \u001b[0mcqueue\u001b[0m\u001b[0;34m.\u001b[0m\u001b[0mdequeue\u001b[0m\u001b[0;34m(\u001b[0m\u001b[0;34m)\u001b[0m\u001b[0;34m\u001b[0m\u001b[0;34m\u001b[0m\u001b[0m\n\u001b[1;32m     73\u001b[0m     \u001b[0mprint\u001b[0m\u001b[0;34m(\u001b[0m\u001b[0;34m\"Queue is empty:\"\u001b[0m\u001b[0;34m,\u001b[0m\u001b[0mcqueue\u001b[0m\u001b[0;34m.\u001b[0m\u001b[0mis_empty\u001b[0m\u001b[0;34m(\u001b[0m\u001b[0;34m)\u001b[0m\u001b[0;34m)\u001b[0m\u001b[0;34m\u001b[0m\u001b[0;34m\u001b[0m\u001b[0m\n\u001b[0;32m---> 74\u001b[0;31m     \u001b[0mcqueue\u001b[0m\u001b[0;34m.\u001b[0m\u001b[0mdequeue\u001b[0m\u001b[0;34m(\u001b[0m\u001b[0;34m)\u001b[0m\u001b[0;34m\u001b[0m\u001b[0;34m\u001b[0m\u001b[0m\n\u001b[0m",
            "\u001b[0;32m<ipython-input-12-9dbe3b83620f>\u001b[0m in \u001b[0;36mdequeue\u001b[0;34m(self)\u001b[0m\n\u001b[1;32m     25\u001b[0m   \u001b[0;32mdef\u001b[0m \u001b[0mdequeue\u001b[0m\u001b[0;34m(\u001b[0m\u001b[0mself\u001b[0m\u001b[0;34m)\u001b[0m\u001b[0;34m:\u001b[0m\u001b[0;34m\u001b[0m\u001b[0;34m\u001b[0m\u001b[0m\n\u001b[1;32m     26\u001b[0m     \u001b[0;32mif\u001b[0m \u001b[0mself\u001b[0m\u001b[0;34m.\u001b[0m\u001b[0mis_empty\u001b[0m\u001b[0;34m(\u001b[0m \u001b[0;34m)\u001b[0m\u001b[0;34m:\u001b[0m\u001b[0;34m\u001b[0m\u001b[0;34m\u001b[0m\u001b[0m\n\u001b[0;32m---> 27\u001b[0;31m       \u001b[0;32mraise\u001b[0m \u001b[0mException\u001b[0m\u001b[0;34m(\u001b[0m\u001b[0;34m\"Queue is empty\"\u001b[0m\u001b[0;34m)\u001b[0m\u001b[0;34m\u001b[0m\u001b[0;34m\u001b[0m\u001b[0m\n\u001b[0m\u001b[1;32m     28\u001b[0m     \u001b[0moldhead\u001b[0m \u001b[0;34m=\u001b[0m \u001b[0mself\u001b[0m\u001b[0;34m.\u001b[0m\u001b[0mtail\u001b[0m\u001b[0;34m.\u001b[0m\u001b[0mnext\u001b[0m\u001b[0;34m\u001b[0m\u001b[0;34m\u001b[0m\u001b[0m\n\u001b[1;32m     29\u001b[0m     \u001b[0;32mif\u001b[0m \u001b[0mself\u001b[0m\u001b[0;34m.\u001b[0m\u001b[0msize\u001b[0m \u001b[0;34m==\u001b[0m \u001b[0;36m1\u001b[0m\u001b[0;34m:\u001b[0m\u001b[0;34m\u001b[0m\u001b[0;34m\u001b[0m\u001b[0m\n",
            "\u001b[0;31mException\u001b[0m: Queue is empty"
          ]
        }
      ]
    }
  ]
}